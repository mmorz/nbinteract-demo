{
 "cells": [
  {
   "cell_type": "code",
   "execution_count": null,
   "id": "9ddaa06b-ab6c-4281-88ed-53e062c06617",
   "metadata": {},
   "outputs": [],
   "source": [
    "print(\"works\")"
   ]
  },
  {
   "cell_type": "code",
   "execution_count": null,
   "id": "2c02af63-9aeb-4722-85fb-468c119cc066",
   "metadata": {},
   "outputs": [],
   "source": [
    "import ipywidgets\n",
    "\n",
    "def runit(a):\n",
    "    print(\"a\",a)\n",
    "\n",
    "ipywidgets.interact_manual(runit, a=\"hello\")"
   ]
  }
 ],
 "metadata": {
  "kernelspec": {
   "display_name": "Python 3 (ipykernel)",
   "language": "python",
   "name": "python3"
  },
  "language_info": {
   "codemirror_mode": {
    "name": "ipython",
    "version": 3
   },
   "file_extension": ".py",
   "mimetype": "text/x-python",
   "name": "python",
   "nbconvert_exporter": "python",
   "pygments_lexer": "ipython3",
   "version": "3.10.11"
  }
 },
 "nbformat": 4,
 "nbformat_minor": 5
}
